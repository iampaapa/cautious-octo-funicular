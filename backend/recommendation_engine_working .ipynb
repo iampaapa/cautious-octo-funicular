{
  "cells": [
    {
      "cell_type": "code",
      "execution_count": 21,
      "metadata": {
        "collapsed": true,
        "id": "b41MLqG9rnvu"
      },
      "outputs": [],
      "source": [
        "import pandas as pd\n",
        "from sklearn.ensemble import RandomForestRegressor\n",
        "from sklearn.compose import ColumnTransformer\n",
        "from sklearn.pipeline import Pipeline\n",
        "import numpy as np\n",
        "from itertools import product\n",
        "from transformers import pipeline\n",
        "import json\n",
        "\n",
        "# Sample JSON data\n",
        "data = [\n",
        "    {\n",
        "        \"student_id\": 1,\n",
        "        \"age\": 2,\n",
        "        \"sex\": 2,\n",
        "        \"graduated_h_school_type\": 1,\n",
        "        \"scholarship_type\": 3,\n",
        "        \"additional_work\": 2,\n",
        "        \"regular_activities\": 1,\n",
        "        \"partner\": 1,\n",
        "        \"questions_solved\": 50,\n",
        "        \"marks_gained\": 45,\n",
        "        \"avg_time_per_question\": 2,\n",
        "        \"best_time_per_question\": 1,\n",
        "        \"worst_time_per_question\": 4,\n",
        "        \"subject_area\": \"Mathematics\",\n",
        "        \"study_hours\": 3,\n",
        "        \"study_method\": 2,\n",
        "        \"reading_non_scientific\": 2,\n",
        "        \"reading_scientific\": 2,\n",
        "        \"attendance_seminars_dep\": 1,\n",
        "        \"impact_of_projects\": 1,\n",
        "        \"attendances_classes\": 1,\n",
        "        \"preparation_midterm_company\": 1,\n",
        "        \"preparation_midterm_time\": 2,\n",
        "        \"taking_notes\": 2,\n",
        "        \"listening\": 2,\n",
        "        \"discussion_improves_interest\": 2,\n",
        "        \"flip_classrom\": 2,\n",
        "        \"grade_previous\": 4,\n",
        "        \"grade_expected\": 4,\n",
        "        \"biggest_challenge\": \"Time management during quizzes\"\n",
        "    }\n",
        "]\n",
        "\n",
        "# Convert data to DataFrame\n",
        "df = pd.DataFrame(data)"
      ]
    },
    {
      "cell_type": "code",
      "execution_count": 22,
      "metadata": {
        "id": "19Mdkou-D-0V"
      },
      "outputs": [],
      "source": [
        "# Define features and target\n",
        "features = [\"study_hours\", \"reading_non_scientific\", \"reading_scientific\", \"attendances_classes\", \"preparation_midterm_time\", \"discussion_improves_interest\"]\n",
        "target = \"marks_gained\"\n",
        "\n",
        "# Preprocessing pipeline\n",
        "preprocessor = ColumnTransformer(\n",
        "    transformers=[\n",
        "        (\"num\", \"passthrough\", features)\n",
        "    ]\n",
        ")\n",
        "\n",
        "# Model pipeline\n",
        "modelRF = Pipeline(steps=[\n",
        "    (\"preprocessor\", preprocessor),\n",
        "    (\"regressor\", RandomForestRegressor(n_estimators=100, random_state=42))\n",
        "])\n",
        "\n",
        "# Fit model\n",
        "X = df[features]\n",
        "y = df[target]\n",
        "modelRF.fit(X, y)\n",
        "\n",
        "# Generate counterfactuals\n",
        "def generate_counterfactuals(student, attributes):\n",
        "    keys, values = zip(*attributes.items())\n",
        "    permutations = [dict(zip(keys, v)) for v in product(*values)]\n",
        "    counterfactuals = []\n",
        "    for perm in permutations:\n",
        "        counterfactual = student.copy()\n",
        "        counterfactual.update(perm)\n",
        "        counterfactuals.append(counterfactual)\n",
        "    return counterfactuals\n",
        "\n",
        "# Attributes to manipulate\n",
        "attributes = {\n",
        "    \"study_hours\": [1, 2, 3, 4, 5],\n",
        "    \"reading_non_scientific\": [1, 2, 3],\n",
        "    \"reading_scientific\": [1, 2, 3],\n",
        "    \"attendances_classes\": [1, 2, 3],\n",
        "    \"preparation_midterm_time\": [1, 2, 3],\n",
        "    \"discussion_improves_interest\": [1, 2, 3]\n",
        "}\n",
        "\n",
        "# Apply counterfactuals and evaluate\n",
        "student = data[0]\n",
        "counterfactuals = generate_counterfactuals(student, attributes)\n",
        "results = []\n",
        "\n",
        "for cf in counterfactuals:\n",
        "    cf_df = pd.DataFrame([cf])\n",
        "    impact_score = modelRF.predict(cf_df[features])[0]\n",
        "    results.append((cf, impact_score))\n",
        "\n",
        "# Select top N counterfactuals\n",
        "N = 5\n",
        "top_counterfactuals = sorted(results, key=lambda x: x[1], reverse=True)[:N]\n",
        "\n",
        "# Generate insights from top counterfactuals\n",
        "insights = []\n",
        "for cf, score in top_counterfactuals:\n",
        "    insights.append(f\"\"\"\n",
        "    Changing the following attributes leads to a predicted score of {score}:\n",
        "    - Study Hours: {cf['study_hours']}\n",
        "    - Reading Non-Scientific: {cf['reading_non_scientific']}\n",
        "    - Reading Scientific: {cf['reading_scientific']}\n",
        "    - Class Attendance: {cf['attendances_classes']}\n",
        "    - Midterm Preparation Time: {cf['preparation_midterm_time']}\n",
        "    - Discussion Improves Interest: {cf['discussion_improves_interest']}\n",
        "    \"\"\")\n",
        "\n",
        "insights_summary = \"\\n\".join(insights)"
      ]
    },
    {
      "cell_type": "code",
      "execution_count": 23,
      "metadata": {
        "id": "9a8VMXxHEGak"
      },
      "outputs": [],
      "source": [
        "# Collect all relevant information\n",
        "questionnaire_data = json.dumps(student, indent=4)\n",
        "performance_summary = f\"\"\"\n",
        "Total Questions Solved: {student['questions_solved']}\n",
        "Marks Gained: {student['marks_gained']}\n",
        "Average Time per Question: {student['avg_time_per_question']}\n",
        "Best Time per Question: {student['best_time_per_question']}\n",
        "Worst Time per Question: {student['worst_time_per_question']}\n",
        "Subject Area: {student['subject_area']}\n",
        "\"\"\"\n",
        "\n",
        "# Function to evaluate recommendation\n",
        "def evaluate_recommendation(recommendation):\n",
        "    # Simulate evaluation by checking if specific practical advice is included\n",
        "    keywords = [\"increase\", \"improve\", \"adjust\", \"manage\", \"practice\", \"focus\"]\n",
        "    return any(keyword in recommendation.lower() for keyword in keywords)"
      ]
    },
    {
      "cell_type": "code",
      "source": [
        "!curl https://ollama.ai/install.sh | sh"
      ],
      "metadata": {
        "colab": {
          "base_uri": "https://localhost:8080/"
        },
        "id": "L5matV7Yok9X",
        "outputId": "92751044-12df-4c91-9263-61df72af45d8"
      },
      "execution_count": 3,
      "outputs": [
        {
          "output_type": "stream",
          "name": "stdout",
          "text": [
            "  % Total    % Received % Xferd  Average Speed   Time    Time     Time  Current\n",
            "                                 Dload  Upload   Total   Spent    Left  Speed\n",
            "  0     0    0     0    0     0      0      0 --:--:-- --:--:-- --:--:--     0>>> Downloading ollama...\n",
            "100 10975    0 10975    0     0  24095      0 --:--:-- --:--:-- --:--:-- 24067\n",
            "############################################################################################# 100.0%\n",
            ">>> Installing ollama to /usr/local/bin...\n",
            ">>> Creating ollama user...\n",
            ">>> Adding ollama user to video group...\n",
            ">>> Adding current user to ollama group...\n",
            ">>> Creating ollama systemd service...\n",
            "WARNING: Unable to detect NVIDIA/AMD GPU. Install lspci or lshw to automatically detect and install GPU dependencies.\n",
            ">>> The Ollama API is now available at 127.0.0.1:11434.\n",
            ">>> Install complete. Run \"ollama\" from the command line.\n"
          ]
        }
      ]
    },
    {
      "cell_type": "code",
      "source": [
        "!nohup ollama serve &"
      ],
      "metadata": {
        "colab": {
          "base_uri": "https://localhost:8080/"
        },
        "id": "rgU1FJ-LuMF4",
        "outputId": "0fb3828e-f34b-489c-a7a7-22d15f335f7c"
      },
      "execution_count": 18,
      "outputs": [
        {
          "output_type": "stream",
          "name": "stdout",
          "text": [
            "nohup: appending output to 'nohup.out'\n"
          ]
        }
      ]
    },
    {
      "cell_type": "code",
      "source": [
        "!ollama run phi3:medium"
      ],
      "metadata": {
        "colab": {
          "base_uri": "https://localhost:8080/"
        },
        "id": "dlbvcjdPqZ4o",
        "outputId": "27680af9-f683-453d-eb68-2ce28be32f5c"
      },
      "execution_count": 13,
      "outputs": [
        {
          "output_type": "stream",
          "name": "stdout",
          "text": [
            "\u001b[?25l⠙ \u001b[?25h\u001b[?25l\u001b[2K\u001b[1G⠹ \u001b[?25h\u001b[?25l\u001b[2K\u001b[1G⠸ \u001b[?25h\u001b[?25l\u001b[2K\u001b[1G⠼ \u001b[?25h\u001b[?25l\u001b[2K\u001b[1G⠴ \u001b[?25h\u001b[?25l\u001b[2K\u001b[1G⠦ \u001b[?25h\u001b[?25l\u001b[2K\u001b[1G⠧ \u001b[?25h\u001b[?25l\u001b[2K\u001b[1G⠇ \u001b[?25h\u001b[?25l\u001b[2K\u001b[1G⠏ \u001b[?25h\u001b[?25l\u001b[2K\u001b[1G⠋ \u001b[?25h\u001b[?25l\u001b[2K\u001b[1G⠙ \u001b[?25h\u001b[?25l\u001b[2K\u001b[1G⠹ \u001b[?25h\u001b[?25l\u001b[2K\u001b[1G⠸ \u001b[?25h\u001b[?25l\u001b[2K\u001b[1G⠼ \u001b[?25h\u001b[?25l\u001b[2K\u001b[1G⠴ \u001b[?25h\u001b[?25l\u001b[2K\u001b[1G⠦ \u001b[?25h\u001b[?25l\u001b[2K\u001b[1G⠧ \u001b[?25h\u001b[?25l\u001b[2K\u001b[1G⠇ \u001b[?25h\u001b[?25l\u001b[2K\u001b[1G⠏ \u001b[?25h\u001b[?25l\u001b[2K\u001b[1G⠋ \u001b[?25h\u001b[?25l\u001b[2K\u001b[1G⠙ \u001b[?25h\u001b[?25l\u001b[2K\u001b[1G⠹ \u001b[?25h\u001b[?25l\u001b[2K\u001b[1G⠸ \u001b[?25h\u001b[?25l\u001b[2K\u001b[1G⠼ \u001b[?25h\u001b[?25l\u001b[2K\u001b[1G⠴ \u001b[?25h\u001b[?25l\u001b[2K\u001b[1G⠦ \u001b[?25h\u001b[?25l\u001b[2K\u001b[1G⠧ \u001b[?25h\u001b[?25l\u001b[2K\u001b[1G⠇ \u001b[?25h\u001b[?25l\u001b[2K\u001b[1G⠏ \u001b[?25h\u001b[?25l\u001b[2K\u001b[1G⠋ \u001b[?25h\u001b[?25l\u001b[2K\u001b[1G⠙ \u001b[?25h\u001b[?25l\u001b[2K\u001b[1G⠹ \u001b[?25h\u001b[?25l\u001b[2K\u001b[1G⠸ \u001b[?25h\u001b[?25l\u001b[2K\u001b[1G⠼ \u001b[?25h\u001b[?25l\u001b[2K\u001b[1G⠴ \u001b[?25h\u001b[?25l\u001b[2K\u001b[1G⠦ \u001b[?25h\u001b[?25l\u001b[2K\u001b[1G⠧ \u001b[?25h\u001b[?25l\u001b[2K\u001b[1G⠇ \u001b[?25h\u001b[?25l\u001b[2K\u001b[1G⠏ \u001b[?25h\u001b[?25l\u001b[2K\u001b[1G⠋ \u001b[?25h\u001b[?25l\u001b[2K\u001b[1G⠙ \u001b[?25h\u001b[?25l\u001b[2K\u001b[1G⠹ \u001b[?25h\u001b[?25l\u001b[2K\u001b[1G⠸ \u001b[?25h\u001b[?25l\u001b[2K\u001b[1G⠼ \u001b[?25h\u001b[?25l\u001b[2K\u001b[1G⠴ \u001b[?25h\u001b[?25l\u001b[2K\u001b[1G⠦ \u001b[?25h\u001b[?25l\u001b[2K\u001b[1G⠧ \u001b[?25h\u001b[?25l\u001b[2K\u001b[1G⠇ \u001b[?25h\u001b[?25l\u001b[2K\u001b[1G⠏ \u001b[?25h\u001b[?25l\u001b[2K\u001b[1G⠋ \u001b[?25h\u001b[?25l\u001b[2K\u001b[1G⠙ \u001b[?25h\u001b[?25l\u001b[2K\u001b[1G⠹ \u001b[?25h\u001b[?25l\u001b[2K\u001b[1G⠸ \u001b[?25h\u001b[?25l\u001b[?25l\u001b[2K\u001b[1G\u001b[?25h\u001b[2K\u001b[1G\u001b[?25h\u001b[?25l\u001b[?25h\u001b[?2004h>>> \u001b[38;5;245mSend a message (/? for help)\u001b[28D\u001b[0m^C\n"
          ]
        }
      ]
    },
    {
      "cell_type": "code",
      "source": [
        "!pip install ollama"
      ],
      "metadata": {
        "colab": {
          "base_uri": "https://localhost:8080/"
        },
        "id": "kz22V0ujwwcx",
        "outputId": "9f943276-180a-4dca-b6ce-f5465f6616b9"
      },
      "execution_count": 15,
      "outputs": [
        {
          "output_type": "stream",
          "name": "stdout",
          "text": [
            "Collecting ollama\n",
            "  Downloading ollama-0.2.1-py3-none-any.whl (9.7 kB)\n",
            "Collecting httpx<0.28.0,>=0.27.0 (from ollama)\n",
            "  Downloading httpx-0.27.0-py3-none-any.whl (75 kB)\n",
            "\u001b[2K     \u001b[90m━━━━━━━━━━━━━━━━━━━━━━━━━━━━━━━━━━━━━━━━\u001b[0m \u001b[32m75.6/75.6 kB\u001b[0m \u001b[31m2.9 MB/s\u001b[0m eta \u001b[36m0:00:00\u001b[0m\n",
            "\u001b[?25hRequirement already satisfied: anyio in /usr/local/lib/python3.10/dist-packages (from httpx<0.28.0,>=0.27.0->ollama) (3.7.1)\n",
            "Requirement already satisfied: certifi in /usr/local/lib/python3.10/dist-packages (from httpx<0.28.0,>=0.27.0->ollama) (2024.6.2)\n",
            "Collecting httpcore==1.* (from httpx<0.28.0,>=0.27.0->ollama)\n",
            "  Downloading httpcore-1.0.5-py3-none-any.whl (77 kB)\n",
            "\u001b[2K     \u001b[90m━━━━━━━━━━━━━━━━━━━━━━━━━━━━━━━━━━━━━━━━\u001b[0m \u001b[32m77.9/77.9 kB\u001b[0m \u001b[31m10.6 MB/s\u001b[0m eta \u001b[36m0:00:00\u001b[0m\n",
            "\u001b[?25hRequirement already satisfied: idna in /usr/local/lib/python3.10/dist-packages (from httpx<0.28.0,>=0.27.0->ollama) (3.7)\n",
            "Requirement already satisfied: sniffio in /usr/local/lib/python3.10/dist-packages (from httpx<0.28.0,>=0.27.0->ollama) (1.3.1)\n",
            "Collecting h11<0.15,>=0.13 (from httpcore==1.*->httpx<0.28.0,>=0.27.0->ollama)\n",
            "  Downloading h11-0.14.0-py3-none-any.whl (58 kB)\n",
            "\u001b[2K     \u001b[90m━━━━━━━━━━━━━━━━━━━━━━━━━━━━━━━━━━━━━━━━\u001b[0m \u001b[32m58.3/58.3 kB\u001b[0m \u001b[31m10.3 MB/s\u001b[0m eta \u001b[36m0:00:00\u001b[0m\n",
            "\u001b[?25hRequirement already satisfied: exceptiongroup in /usr/local/lib/python3.10/dist-packages (from anyio->httpx<0.28.0,>=0.27.0->ollama) (1.2.1)\n",
            "Installing collected packages: h11, httpcore, httpx, ollama\n",
            "Successfully installed h11-0.14.0 httpcore-1.0.5 httpx-0.27.0 ollama-0.2.1\n"
          ]
        }
      ]
    },
    {
      "cell_type": "code",
      "source": [
        "\n",
        "response = ollama.chat(model='phi3:medium', messages=[\n",
        "  {\n",
        "    'role': 'user',\n",
        "    'content': prompt_var,\n",
        "  },\n",
        "])\n",
        "print(response['message']['content'])"
      ],
      "metadata": {
        "colab": {
          "base_uri": "https://localhost:8080/"
        },
        "id": "uc6VIohNwzAz",
        "outputId": "0561a747-b5fc-463c-a71a-37b3dc6a62ab"
      },
      "execution_count": 19,
      "outputs": [
        {
          "output_type": "stream",
          "name": "stdout",
          "text": [
            " The color of the sky is due to a process called Rayleastern scattering. As sunlight reaches Earth's atmosphere, it interacts with gas molecules, dust particles, and other substances present in the air. While sunlight consists of different colors (or wavelengths) combined together, each color scatters differently when it encounters these atmospheric particles.\n",
            "\n",
            "Blue light has a shorter wavelength compared to other visible colors like red or yellow, which makes it scatter more easily upon hitting gas molecules in the Earth's atmosphere. As blue light scatters throughout the sky from all directions, our eyes perceive that scattered blue light, making the sky appear blue during daylight hours.\n",
            "\n",
            "This phenomenon is most pronounced when the Sun is at a high angle in the sky (around noon). When the sun is low on the horizon, like during sunrise or sunset, its light has to pass through more atmosphere before reaching us. During these times, red and orange wavelebands dominate because they scatter less than blue light due to their longer wavelengths, which results in beautiful colors at dawn and dusk.\n",
            "\n",
            "It's essential to note that the sky can appear different shades of blue or even change color under specific conditions like pollution, weather events, or astronomical occurrences such as during a lunar eclipse when it may take on a deep red hue called \"blood moon.\"\n"
          ]
        }
      ]
    },
    {
      "cell_type": "code",
      "source": [
        "from transformers import TextStreamer\n",
        "import ollama\n",
        "\n",
        "# Generate and refine recommendations\n",
        "for i in range(10):  # Maximum 10 iterations for refinement\n",
        "    prompt_var = f\"\"\"\n",
        "    Based on the following questionnaire data, performance summary, and insights, provide specific and practical recommendations for the student:\n",
        "\n",
        "    Questionnaire Data:\n",
        "    {questionnaire_data}\n",
        "\n",
        "    Performance Summary:\n",
        "    {performance_summary}\n",
        "\n",
        "    Insights:\n",
        "    {insights_summary}\n",
        "\n",
        "    Additionally, the student has identified their biggest challenge with the NSMQ as: \"{student['biggest_challenge']}\". Provide targeted recommendations to address this challenge as well.\n",
        "    \"\"\"\n",
        "\n",
        "    outputs = ollama.chat(model='phi3:medium', messages=[\n",
        "      {\n",
        "        'role': 'user',\n",
        "        'content': prompt_var,\n",
        "      },\n",
        "    ])\n",
        "\n",
        "    recommendation_text = response['message']['content']\n",
        "\n",
        "    if evaluate_recommendation(recommendation_text):\n",
        "        break  # If the recommendation is practical and effective, stop refining\n",
        "\n",
        "print(recommendation_text)"
      ],
      "metadata": {
        "colab": {
          "base_uri": "https://localhost:8080/"
        },
        "id": "7ek7JEEjkOvi",
        "outputId": "6908fc3d-fcbd-42b2-967d-b18227aba542"
      },
      "execution_count": 25,
      "outputs": [
        {
          "output_type": "stream",
          "name": "stdout",
          "text": [
            " The color of the sky is due to a process called Rayleastern scattering. As sunlight reaches Earth's atmosphere, it interacts with gas molecules, dust particles, and other substances present in the air. While sunlight consists of different colors (or wavelengths) combined together, each color scatters differently when it encounters these atmospheric particles.\n",
            "\n",
            "Blue light has a shorter wavelength compared to other visible colors like red or yellow, which makes it scatter more easily upon hitting gas molecules in the Earth's atmosphere. As blue light scatters throughout the sky from all directions, our eyes perceive that scattered blue light, making the sky appear blue during daylight hours.\n",
            "\n",
            "This phenomenon is most pronounced when the Sun is at a high angle in the sky (around noon). When the sun is low on the horizon, like during sunrise or sunset, its light has to pass through more atmosphere before reaching us. During these times, red and orange wavelebands dominate because they scatter less than blue light due to their longer wavelengths, which results in beautiful colors at dawn and dusk.\n",
            "\n",
            "It's essential to note that the sky can appear different shades of blue or even change color under specific conditions like pollution, weather events, or astronomical occurrences such as during a lunar eclipse when it may take on a deep red hue called \"blood moon.\"\n"
          ]
        }
      ]
    }
  ],
  "metadata": {
    "accelerator": "GPU",
    "colab": {
      "gpuType": "T4",
      "provenance": []
    },
    "kernelspec": {
      "display_name": "Python 3",
      "name": "python3"
    },
    "language_info": {
      "name": "python"
    }
  },
  "nbformat": 4,
  "nbformat_minor": 0
}